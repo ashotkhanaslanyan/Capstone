{
  "nbformat": 4,
  "nbformat_minor": 0,
  "metadata": {
    "colab": {
      "name": "cleaning.ipynb",
      "provenance": [],
      "collapsed_sections": [],
      "toc_visible": true
    },
    "kernelspec": {
      "name": "python3",
      "display_name": "Python 3"
    }
  },
  "cells": [
    {
      "cell_type": "code",
      "metadata": {
        "id": "0ClgYLc9LGxj",
        "colab_type": "code",
        "outputId": "3f7b1057-3879-47c7-c7fe-690bc9224c5c",
        "colab": {
          "base_uri": "https://localhost:8080/",
          "height": 139
        }
      },
      "source": [
        "!pip install dfply\n",
        "import pandas as pd\n",
        "import numpy as np\n",
        "from datetime import datetime\n",
        "from dateutil import parser\n",
        "import re\n",
        "import math\n",
        "from dfply import *"
      ],
      "execution_count": 1,
      "outputs": [
        {
          "output_type": "stream",
          "text": [
            "Requirement already satisfied: dfply in /usr/local/lib/python3.6/dist-packages (0.3.3)\n",
            "Requirement already satisfied: pandas in /usr/local/lib/python3.6/dist-packages (from dfply) (0.25.3)\n",
            "Requirement already satisfied: numpy in /usr/local/lib/python3.6/dist-packages (from dfply) (1.18.2)\n",
            "Requirement already satisfied: python-dateutil>=2.6.1 in /usr/local/lib/python3.6/dist-packages (from pandas->dfply) (2.8.1)\n",
            "Requirement already satisfied: pytz>=2017.2 in /usr/local/lib/python3.6/dist-packages (from pandas->dfply) (2018.9)\n",
            "Requirement already satisfied: six>=1.5 in /usr/local/lib/python3.6/dist-packages (from python-dateutil>=2.6.1->pandas->dfply) (1.12.0)\n"
          ],
          "name": "stdout"
        }
      ]
    },
    {
      "cell_type": "code",
      "metadata": {
        "id": "ZkLI0EABLI71",
        "colab_type": "code",
        "colab": {
          "base_uri": "https://localhost:8080/",
          "height": 71
        },
        "outputId": "5f033d75-cf35-4676-e02b-53a6097e8ffa"
      },
      "source": [
        "transfers_path = \"/content/drive/My Drive/Capstone/Capstone_Data/full_data/Transfers_Full.csv\"\n",
        "transfers = pd.read_csv(transfers_path, index_col = 0)\n",
        "\n",
        "mval_path = \"/content/drive/My Drive/Capstone/Capstone_Data/full_data/markval.csv\"\n",
        "markval = pd.read_csv(mval_path, index_col = 0)\n",
        "\n",
        "players_path = \"/content/drive/My Drive/Capstone/Capstone_Data/full_data/Players_Full.csv\"\n",
        "players = pd.read_csv(players_path, index_col = 0)\n",
        "\n",
        "\n",
        "def remove_chars(string):\n",
        "  return string.strip()\n",
        "\n",
        "def clean_money(string):\n",
        "  ammount = string\n",
        "  try:\n",
        "    if(\"free\" in string.lower()):\n",
        "      ammount = 0.0\n",
        "    elif(\"k\" in string):\n",
        "      ammount = (re.sub('[^\\d\\.]', '', string))\n",
        "      ammount = float(ammount) * 1000\n",
        "    elif(\"m\" in string):\n",
        "      ammount = (re.sub('[^\\d\\.]', '', string))\n",
        "      ammount = float(ammount) * 1000000\n",
        "  except Exception as e:\n",
        "    pass\n",
        "  return ammount\n",
        "\n",
        "def is_loan(string):\n",
        "  result = False\n",
        "  try:\n",
        "    result = \"loan\" in string.lower()\n",
        "  except:\n",
        "    pass\n",
        "  return result\n",
        "\n",
        "def no_loan(string):\n",
        "  result = False\n",
        "  try:\n",
        "    result = \"loan\" in string.lower()\n",
        "  except:\n",
        "    pass\n",
        "  return not(result)\n",
        "\n",
        "def clean_loans(string):\n",
        "  ammount = 0.0\n",
        "  try:\n",
        "    if(\"k\" in string):\n",
        "      ammount = (re.sub('[^\\d\\.]', '', string))\n",
        "      ammount = float(ammount) * 1000\n",
        "    elif(\"m\" in string):\n",
        "      ammount = (re.sub('[^\\d\\.]', '', string))\n",
        "      ammount = float(ammount) * 1000000\n",
        "  except Exception as e:\n",
        "    pass\n",
        "  return ammount\n",
        "\n",
        "def call_nan(string):\n",
        "  return math.isnan(string)\n"
      ],
      "execution_count": 2,
      "outputs": [
        {
          "output_type": "stream",
          "text": [
            "/usr/local/lib/python3.6/dist-packages/IPython/core/interactiveshell.py:2718: DtypeWarning: Columns (0,1,2) have mixed types. Specify dtype option on import or set low_memory=False.\n",
            "  interactivity=interactivity, compiler=compiler, result=result)\n"
          ],
          "name": "stderr"
        }
      ]
    },
    {
      "cell_type": "code",
      "metadata": {
        "id": "zv2Q1haQzeZK",
        "colab_type": "code",
        "colab": {}
      },
      "source": [
        "def clean_transfers(transfers):\n",
        "  transfers = transfers.drop_duplicates()\n",
        "  transfers[\"Name\"] = transfers[\"Name\"].apply(remove_chars)\n",
        "  transfers[\"From\"] = transfers[\"From\"].apply(remove_chars)\n",
        "  transfers[\"To\"] = transfers[\"To\"].apply(remove_chars)\n",
        "  transfers = transfers[transfers[\"Player_Id\"] != \"\\nAtalanta \"]\n",
        "  transfers.Player_Id = transfers.Player_Id.astype(int)\n",
        "  transfers.tm_Id = transfers.tm_Id.astype(int)\n",
        "\n",
        "  loans = transfers[transfers[\"Fee\"].apply(is_loan)]\n",
        "  transfers = transfers[(transfers[\"Fee\"].apply(no_loan))]\n",
        "  transfers[\"Market Value\"] = transfers[\"Market Value\"].apply(clean_money)\n",
        "  transfers[\"Market Value\"] = pd.to_numeric(transfers[\"Market Value\"], errors=\"coerce\")\n",
        "  transfers[\"Fee\"] = transfers[\"Fee\"].apply(clean_money)\n",
        "  transfers[\"Fee\"] = pd.to_numeric(transfers[\"Fee\"], errors=\"coerce\")\n",
        "  transfers[\"Loan\"] = False\n",
        "\n",
        "  loans[\"Market Value\"] = loans[\"Market Value\"].apply(clean_money)\n",
        "  loans[\"Market Value\"] = pd.to_numeric(loans[\"Market Value\"], errors=\"coerce\")\n",
        "  loans[\"Fee\"] = loans[\"Fee\"].apply(clean_money)\n",
        "  loans[\"Fee\"] = pd.to_numeric(loans[\"Fee\"], errors=\"coerce\")\n",
        "  loans[\"Loan\"] = True\n",
        "  loans.fillna(value = 0, inplace=True)\n",
        "\n",
        "  transfers = transfers.append(loans)\n",
        "  transfers[\"Season\"] = transfers[\"Season\"].astype('category')\n",
        "\n",
        "  transfers.columns = ['Player_Id', 'tm_Id', 'Name', 'From', 'To', 'Fee', 'MV',\n",
        "       'Season', 'Date', 'Loan']\n",
        "\n",
        "  transfers = (transfers >>\n",
        "             arrange(X.Player_Id) >>\n",
        "             mask(X.Fee.notna()) >>\n",
        "             drop(X.Player_Id))\n",
        "  transfers.Season = transfers.Season.astype(\"category\")\n",
        "  transfers[\"Date\"] = pd.to_datetime(transfers[\"Date\"], errors=\"coerce\")\n",
        "\n",
        "  # hdf_path = \"/content/drive/My Drive/Capstone/Capstone_Data/clean_data/data.h5\"\n",
        "  # transfers.to_hdf(hdf_path, key = \"transfers\", mode='w', format = \"table\")\n",
        "  transfers.to_csv(\"/content/drive/My Drive/Capstone/Capstone_Data/clean_data/Transfers_Clean.csv\")\n",
        "  transfers.to_pickle(\"/content/drive/My Drive/Capstone/Capstone_Data/clean_data/Transfers_Clean.pkl\")\n"
      ],
      "execution_count": 0,
      "outputs": []
    },
    {
      "cell_type": "code",
      "metadata": {
        "id": "YqzKCpbu0uiR",
        "colab_type": "code",
        "colab": {}
      },
      "source": [
        "def clean_markval(markval):\n",
        "  unique_ids = list(players.tm_Id.unique())\n",
        "  markval = markval[markval.tm_Id.isin(unique_ids)]\n",
        "  markval.columns = [\"Name\", \"Club\", \"League\", \"Season\", \"MV\", \"tm_Id\"]\n",
        "  markval = ( markval >>\n",
        "              mask(X.MV.notna()) >>\n",
        "              drop(X.Name) \n",
        "              )\n",
        "  markval = ( markval >>\n",
        "            select(X.tm_Id, X.Club, X.League, X.Season, X.MV))\n",
        "  markval[markval.tm_Id == 17259]\n",
        "  markval[\"Club\"] = markval[\"Club\"].apply(remove_chars)\n",
        "  markval[\"League\"] = markval[\"League\"].apply(remove_chars)\n",
        "  markval[\"MV\"] = markval[\"MV\"].apply(clean_money)\n",
        "  markval[\"MV\"] = pd.to_numeric(markval[\"MV\"], errors=\"coerce\")\n",
        "  markval.Season = markval.Season.astype(\"category\")\n",
        "  markval.to_csv(\"/content/drive/My Drive/Capstone/Capstone_Data/clean_data/markval_Clean.csv\")\n",
        "  markval.to_pickle(\"/content/drive/My Drive/Capstone/Capstone_Data/clean_data/markval_Clean.pkl\")\n"
      ],
      "execution_count": 0,
      "outputs": []
    },
    {
      "cell_type": "code",
      "metadata": {
        "id": "ndssNJLD2gg1",
        "colab_type": "code",
        "colab": {
          "base_uri": "https://localhost:8080/",
          "height": 343
        },
        "outputId": "dc28921a-231c-44ed-b673-4b7dca9de086"
      },
      "source": [
        "clean_transfers(transfers)"
      ],
      "execution_count": 5,
      "outputs": [
        {
          "output_type": "stream",
          "text": [
            "/usr/local/lib/python3.6/dist-packages/ipykernel_launcher.py:3: SettingWithCopyWarning: \n",
            "A value is trying to be set on a copy of a slice from a DataFrame.\n",
            "Try using .loc[row_indexer,col_indexer] = value instead\n",
            "\n",
            "See the caveats in the documentation: http://pandas.pydata.org/pandas-docs/stable/user_guide/indexing.html#returning-a-view-versus-a-copy\n",
            "  This is separate from the ipykernel package so we can avoid doing imports until\n",
            "/usr/local/lib/python3.6/dist-packages/ipykernel_launcher.py:4: SettingWithCopyWarning: \n",
            "A value is trying to be set on a copy of a slice from a DataFrame.\n",
            "Try using .loc[row_indexer,col_indexer] = value instead\n",
            "\n",
            "See the caveats in the documentation: http://pandas.pydata.org/pandas-docs/stable/user_guide/indexing.html#returning-a-view-versus-a-copy\n",
            "  after removing the cwd from sys.path.\n",
            "/usr/local/lib/python3.6/dist-packages/ipykernel_launcher.py:5: SettingWithCopyWarning: \n",
            "A value is trying to be set on a copy of a slice from a DataFrame.\n",
            "Try using .loc[row_indexer,col_indexer] = value instead\n",
            "\n",
            "See the caveats in the documentation: http://pandas.pydata.org/pandas-docs/stable/user_guide/indexing.html#returning-a-view-versus-a-copy\n",
            "  \"\"\"\n"
          ],
          "name": "stderr"
        }
      ]
    },
    {
      "cell_type": "code",
      "metadata": {
        "id": "grnmVYu-2jDJ",
        "colab_type": "code",
        "colab": {}
      },
      "source": [
        "clean_markval(markval)"
      ],
      "execution_count": 0,
      "outputs": []
    }
  ]
}